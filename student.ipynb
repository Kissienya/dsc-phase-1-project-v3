{
 "cells": [
  {
   "cell_type": "markdown",
   "metadata": {},
   "source": [
    "## Final Project Submission\n",
    "\n",
    "Please fill out:\n",
    "* Student name: Joackim Kisienya\n",
    "* Student pace: part time \n",
    "* Scheduled project review date/time: 29/04/2025\n",
    "* Instructor name: Maryann Mwikali\n",
    "* Blog post URL:\n"
   ]
  },
  {
   "cell_type": "markdown",
   "metadata": {},
   "source": [
    "# Business understanding-goals\n",
    "## Introduction\n",
    "The company I am working with is interested in purchasing and operating airplanes for commercial and private enterprises.I seek  to determine which aircraft are the lowest risk for the company to start this new business endevor. This will assist the head of the new aviation division make a decision on which aircraft to purchase."
   ]
  },
  {
   "cell_type": "markdown",
   "metadata": {},
   "source": [
    "# Data understanding\n",
    "The data [Aviation_Data.csv](https://www.kaggle.com/datasets/khsamaha/aviation-accident-database-synopses) is sourced from kaggle and it is from the National Transport safety Board.It contains information from 1962 to 2023 about civil aviation accidents and selected incidents within the United States, its territories and possessions, and international waters."
   ]
  },
  {
   "cell_type": "markdown",
   "metadata": {},
   "source": [
    "### Setup\n",
    "* Import pandas and Matplotlib librarries for analysis and plotting respectively."
   ]
  },
  {
   "cell_type": "code",
   "execution_count": 1,
   "metadata": {},
   "outputs": [],
   "source": [
    "import pandas as pd #import pandas library to manipulate our dataset\n",
    "import matplotlib.pyplot as plt #import matplotlib library for visualizations"
   ]
  },
  {
   "cell_type": "markdown",
   "metadata": {},
   "source": [
    "## Data inspection\n",
    "Load **Aviation_Data.csv** file as **Aviation** DataFrame"
   ]
  },
  {
   "cell_type": "code",
   "execution_count": 2,
   "metadata": {},
   "outputs": [
    {
     "data": {
      "text/html": [
       "<div>\n",
       "<style scoped>\n",
       "    .dataframe tbody tr th:only-of-type {\n",
       "        vertical-align: middle;\n",
       "    }\n",
       "\n",
       "    .dataframe tbody tr th {\n",
       "        vertical-align: top;\n",
       "    }\n",
       "\n",
       "    .dataframe thead th {\n",
       "        text-align: right;\n",
       "    }\n",
       "</style>\n",
       "<table border=\"1\" class=\"dataframe\">\n",
       "  <thead>\n",
       "    <tr style=\"text-align: right;\">\n",
       "      <th></th>\n",
       "      <th>Event.Id</th>\n",
       "      <th>Investigation.Type</th>\n",
       "      <th>Accident.Number</th>\n",
       "      <th>Event.Date</th>\n",
       "      <th>Location</th>\n",
       "      <th>Country</th>\n",
       "      <th>Latitude</th>\n",
       "      <th>Longitude</th>\n",
       "      <th>Airport.Code</th>\n",
       "      <th>Airport.Name</th>\n",
       "      <th>...</th>\n",
       "      <th>Purpose.of.flight</th>\n",
       "      <th>Air.carrier</th>\n",
       "      <th>Total.Fatal.Injuries</th>\n",
       "      <th>Total.Serious.Injuries</th>\n",
       "      <th>Total.Minor.Injuries</th>\n",
       "      <th>Total.Uninjured</th>\n",
       "      <th>Weather.Condition</th>\n",
       "      <th>Broad.phase.of.flight</th>\n",
       "      <th>Report.Status</th>\n",
       "      <th>Publication.Date</th>\n",
       "    </tr>\n",
       "  </thead>\n",
       "  <tbody>\n",
       "    <tr>\n",
       "      <th>0</th>\n",
       "      <td>20001218X45444</td>\n",
       "      <td>Accident</td>\n",
       "      <td>SEA87LA080</td>\n",
       "      <td>1948-10-24</td>\n",
       "      <td>MOOSE CREEK, ID</td>\n",
       "      <td>United States</td>\n",
       "      <td>NaN</td>\n",
       "      <td>NaN</td>\n",
       "      <td>NaN</td>\n",
       "      <td>NaN</td>\n",
       "      <td>...</td>\n",
       "      <td>Personal</td>\n",
       "      <td>NaN</td>\n",
       "      <td>2.0</td>\n",
       "      <td>0.0</td>\n",
       "      <td>0.0</td>\n",
       "      <td>0.0</td>\n",
       "      <td>UNK</td>\n",
       "      <td>Cruise</td>\n",
       "      <td>Probable Cause</td>\n",
       "      <td>NaN</td>\n",
       "    </tr>\n",
       "    <tr>\n",
       "      <th>1</th>\n",
       "      <td>20001218X45447</td>\n",
       "      <td>Accident</td>\n",
       "      <td>LAX94LA336</td>\n",
       "      <td>1962-07-19</td>\n",
       "      <td>BRIDGEPORT, CA</td>\n",
       "      <td>United States</td>\n",
       "      <td>NaN</td>\n",
       "      <td>NaN</td>\n",
       "      <td>NaN</td>\n",
       "      <td>NaN</td>\n",
       "      <td>...</td>\n",
       "      <td>Personal</td>\n",
       "      <td>NaN</td>\n",
       "      <td>4.0</td>\n",
       "      <td>0.0</td>\n",
       "      <td>0.0</td>\n",
       "      <td>0.0</td>\n",
       "      <td>UNK</td>\n",
       "      <td>Unknown</td>\n",
       "      <td>Probable Cause</td>\n",
       "      <td>19-09-1996</td>\n",
       "    </tr>\n",
       "    <tr>\n",
       "      <th>2</th>\n",
       "      <td>20061025X01555</td>\n",
       "      <td>Accident</td>\n",
       "      <td>NYC07LA005</td>\n",
       "      <td>1974-08-30</td>\n",
       "      <td>Saltville, VA</td>\n",
       "      <td>United States</td>\n",
       "      <td>36.922223</td>\n",
       "      <td>-81.878056</td>\n",
       "      <td>NaN</td>\n",
       "      <td>NaN</td>\n",
       "      <td>...</td>\n",
       "      <td>Personal</td>\n",
       "      <td>NaN</td>\n",
       "      <td>3.0</td>\n",
       "      <td>NaN</td>\n",
       "      <td>NaN</td>\n",
       "      <td>NaN</td>\n",
       "      <td>IMC</td>\n",
       "      <td>Cruise</td>\n",
       "      <td>Probable Cause</td>\n",
       "      <td>26-02-2007</td>\n",
       "    </tr>\n",
       "    <tr>\n",
       "      <th>3</th>\n",
       "      <td>20001218X45448</td>\n",
       "      <td>Accident</td>\n",
       "      <td>LAX96LA321</td>\n",
       "      <td>1977-06-19</td>\n",
       "      <td>EUREKA, CA</td>\n",
       "      <td>United States</td>\n",
       "      <td>NaN</td>\n",
       "      <td>NaN</td>\n",
       "      <td>NaN</td>\n",
       "      <td>NaN</td>\n",
       "      <td>...</td>\n",
       "      <td>Personal</td>\n",
       "      <td>NaN</td>\n",
       "      <td>2.0</td>\n",
       "      <td>0.0</td>\n",
       "      <td>0.0</td>\n",
       "      <td>0.0</td>\n",
       "      <td>IMC</td>\n",
       "      <td>Cruise</td>\n",
       "      <td>Probable Cause</td>\n",
       "      <td>12-09-2000</td>\n",
       "    </tr>\n",
       "    <tr>\n",
       "      <th>4</th>\n",
       "      <td>20041105X01764</td>\n",
       "      <td>Accident</td>\n",
       "      <td>CHI79FA064</td>\n",
       "      <td>1979-08-02</td>\n",
       "      <td>Canton, OH</td>\n",
       "      <td>United States</td>\n",
       "      <td>NaN</td>\n",
       "      <td>NaN</td>\n",
       "      <td>NaN</td>\n",
       "      <td>NaN</td>\n",
       "      <td>...</td>\n",
       "      <td>Personal</td>\n",
       "      <td>NaN</td>\n",
       "      <td>1.0</td>\n",
       "      <td>2.0</td>\n",
       "      <td>NaN</td>\n",
       "      <td>0.0</td>\n",
       "      <td>VMC</td>\n",
       "      <td>Approach</td>\n",
       "      <td>Probable Cause</td>\n",
       "      <td>16-04-1980</td>\n",
       "    </tr>\n",
       "  </tbody>\n",
       "</table>\n",
       "<p>5 rows × 31 columns</p>\n",
       "</div>"
      ],
      "text/plain": [
       "         Event.Id Investigation.Type Accident.Number  Event.Date  \\\n",
       "0  20001218X45444           Accident      SEA87LA080  1948-10-24   \n",
       "1  20001218X45447           Accident      LAX94LA336  1962-07-19   \n",
       "2  20061025X01555           Accident      NYC07LA005  1974-08-30   \n",
       "3  20001218X45448           Accident      LAX96LA321  1977-06-19   \n",
       "4  20041105X01764           Accident      CHI79FA064  1979-08-02   \n",
       "\n",
       "          Location        Country   Latitude   Longitude Airport.Code  \\\n",
       "0  MOOSE CREEK, ID  United States        NaN         NaN          NaN   \n",
       "1   BRIDGEPORT, CA  United States        NaN         NaN          NaN   \n",
       "2    Saltville, VA  United States  36.922223  -81.878056          NaN   \n",
       "3       EUREKA, CA  United States        NaN         NaN          NaN   \n",
       "4       Canton, OH  United States        NaN         NaN          NaN   \n",
       "\n",
       "  Airport.Name  ... Purpose.of.flight Air.carrier Total.Fatal.Injuries  \\\n",
       "0          NaN  ...          Personal         NaN                  2.0   \n",
       "1          NaN  ...          Personal         NaN                  4.0   \n",
       "2          NaN  ...          Personal         NaN                  3.0   \n",
       "3          NaN  ...          Personal         NaN                  2.0   \n",
       "4          NaN  ...          Personal         NaN                  1.0   \n",
       "\n",
       "  Total.Serious.Injuries Total.Minor.Injuries Total.Uninjured  \\\n",
       "0                    0.0                  0.0             0.0   \n",
       "1                    0.0                  0.0             0.0   \n",
       "2                    NaN                  NaN             NaN   \n",
       "3                    0.0                  0.0             0.0   \n",
       "4                    2.0                  NaN             0.0   \n",
       "\n",
       "  Weather.Condition  Broad.phase.of.flight   Report.Status Publication.Date  \n",
       "0               UNK                 Cruise  Probable Cause              NaN  \n",
       "1               UNK                Unknown  Probable Cause       19-09-1996  \n",
       "2               IMC                 Cruise  Probable Cause       26-02-2007  \n",
       "3               IMC                 Cruise  Probable Cause       12-09-2000  \n",
       "4               VMC               Approach  Probable Cause       16-04-1980  \n",
       "\n",
       "[5 rows x 31 columns]"
      ]
     },
     "execution_count": 2,
     "metadata": {},
     "output_type": "execute_result"
    }
   ],
   "source": [
    "Aviation = pd.read_csv('data\\Aviation_Data.csv', low_memory = False) #Reading Aviation_Data.csv into a DataFrame \n",
    "Aviation.head() #Display the first five records"
   ]
  },
  {
   "cell_type": "code",
   "execution_count": 3,
   "metadata": {},
   "outputs": [
    {
     "name": "stdout",
     "output_type": "stream",
     "text": [
      "<class 'pandas.core.frame.DataFrame'>\n",
      "RangeIndex: 90348 entries, 0 to 90347\n",
      "Data columns (total 31 columns):\n",
      " #   Column                  Non-Null Count  Dtype  \n",
      "---  ------                  --------------  -----  \n",
      " 0   Event.Id                88889 non-null  object \n",
      " 1   Investigation.Type      90348 non-null  object \n",
      " 2   Accident.Number         88889 non-null  object \n",
      " 3   Event.Date              88889 non-null  object \n",
      " 4   Location                88837 non-null  object \n",
      " 5   Country                 88663 non-null  object \n",
      " 6   Latitude                34382 non-null  object \n",
      " 7   Longitude               34373 non-null  object \n",
      " 8   Airport.Code            50132 non-null  object \n",
      " 9   Airport.Name            52704 non-null  object \n",
      " 10  Injury.Severity         87889 non-null  object \n",
      " 11  Aircraft.damage         85695 non-null  object \n",
      " 12  Aircraft.Category       32287 non-null  object \n",
      " 13  Registration.Number     87507 non-null  object \n",
      " 14  Make                    88826 non-null  object \n",
      " 15  Model                   88797 non-null  object \n",
      " 16  Amateur.Built           88787 non-null  object \n",
      " 17  Number.of.Engines       82805 non-null  float64\n",
      " 18  Engine.Type             81793 non-null  object \n",
      " 19  FAR.Description         32023 non-null  object \n",
      " 20  Schedule                12582 non-null  object \n",
      " 21  Purpose.of.flight       82697 non-null  object \n",
      " 22  Air.carrier             16648 non-null  object \n",
      " 23  Total.Fatal.Injuries    77488 non-null  float64\n",
      " 24  Total.Serious.Injuries  76379 non-null  float64\n",
      " 25  Total.Minor.Injuries    76956 non-null  float64\n",
      " 26  Total.Uninjured         82977 non-null  float64\n",
      " 27  Weather.Condition       84397 non-null  object \n",
      " 28  Broad.phase.of.flight   61724 non-null  object \n",
      " 29  Report.Status           82505 non-null  object \n",
      " 30  Publication.Date        73659 non-null  object \n",
      "dtypes: float64(5), object(26)\n",
      "memory usage: 21.4+ MB\n"
     ]
    }
   ],
   "source": [
    "#Display information about our dataset.\n",
    "Aviation.info()"
   ]
  },
  {
   "cell_type": "code",
   "execution_count": 4,
   "metadata": {},
   "outputs": [
    {
     "name": "stdout",
     "output_type": "stream",
     "text": [
      "\n",
      "Number of rows: 90348\n",
      "Number of columns: 31\n"
     ]
    }
   ],
   "source": [
    "#print number of rows and columns\n",
    "num_rows, num_cols = Aviation.shape\n",
    "print(f\"\\nNumber of rows: {num_rows}\")\n",
    "print(f\"Number of columns: {num_cols}\")"
   ]
  },
  {
   "cell_type": "code",
   "execution_count": 5,
   "metadata": {},
   "outputs": [
    {
     "data": {
      "text/plain": [
       "Event.Id                   1459\n",
       "Investigation.Type            0\n",
       "Accident.Number            1459\n",
       "Event.Date                 1459\n",
       "Location                   1511\n",
       "Country                    1685\n",
       "Latitude                  55966\n",
       "Longitude                 55975\n",
       "Airport.Code              40216\n",
       "Airport.Name              37644\n",
       "Injury.Severity            2459\n",
       "Aircraft.damage            4653\n",
       "Aircraft.Category         58061\n",
       "Registration.Number        2841\n",
       "Make                       1522\n",
       "Model                      1551\n",
       "Amateur.Built              1561\n",
       "Number.of.Engines          7543\n",
       "Engine.Type                8555\n",
       "FAR.Description           58325\n",
       "Schedule                  77766\n",
       "Purpose.of.flight          7651\n",
       "Air.carrier               73700\n",
       "Total.Fatal.Injuries      12860\n",
       "Total.Serious.Injuries    13969\n",
       "Total.Minor.Injuries      13392\n",
       "Total.Uninjured            7371\n",
       "Weather.Condition          5951\n",
       "Broad.phase.of.flight     28624\n",
       "Report.Status              7843\n",
       "Publication.Date          16689\n",
       "dtype: int64"
      ]
     },
     "execution_count": 5,
     "metadata": {},
     "output_type": "execute_result"
    }
   ],
   "source": [
    "#checking for missing values in our dataset\n",
    "Aviation.isnull().sum()"
   ]
  },
  {
   "cell_type": "code",
   "execution_count": 6,
   "metadata": {},
   "outputs": [
    {
     "data": {
      "text/plain": [
       "Event.Id                   1.61\n",
       "Investigation.Type         0.00\n",
       "Accident.Number            1.61\n",
       "Event.Date                 1.61\n",
       "Location                   1.67\n",
       "Country                    1.87\n",
       "Latitude                  61.94\n",
       "Longitude                 61.95\n",
       "Airport.Code              44.51\n",
       "Airport.Name              41.67\n",
       "Injury.Severity            2.72\n",
       "Aircraft.damage            5.15\n",
       "Aircraft.Category         64.26\n",
       "Registration.Number        3.14\n",
       "Make                       1.68\n",
       "Model                      1.72\n",
       "Amateur.Built              1.73\n",
       "Number.of.Engines          8.35\n",
       "Engine.Type                9.47\n",
       "FAR.Description           64.56\n",
       "Schedule                  86.07\n",
       "Purpose.of.flight          8.47\n",
       "Air.carrier               81.57\n",
       "Total.Fatal.Injuries      14.23\n",
       "Total.Serious.Injuries    15.46\n",
       "Total.Minor.Injuries      14.82\n",
       "Total.Uninjured            8.16\n",
       "Weather.Condition          6.59\n",
       "Broad.phase.of.flight     31.68\n",
       "Report.Status              8.68\n",
       "Publication.Date          18.47\n",
       "dtype: float64"
      ]
     },
     "execution_count": 6,
     "metadata": {},
     "output_type": "execute_result"
    }
   ],
   "source": [
    "#checking for percentage of missing values in our dataset\n",
    "((Aviation.isnull()|Aviation.isna()).sum() *100 / Aviation.index.size).round(2)"
   ]
  },
  {
   "cell_type": "markdown",
   "metadata": {},
   "source": [
    "### Data preparation\n",
    "* Drop some columns with over 40% missing values."
   ]
  },
  {
   "cell_type": "code",
   "execution_count": 7,
   "metadata": {},
   "outputs": [
    {
     "data": {
      "text/plain": [
       "(90348, 24)"
      ]
     },
     "execution_count": 7,
     "metadata": {},
     "output_type": "execute_result"
    }
   ],
   "source": [
    "# Drop selected columns with more than 40% missing values\n",
    "Drop_cols = ['Latitude', 'Longitude','Airport.Code','Airport.Name','FAR.Description', 'Schedule', 'Air.carrier']\n",
    "Aviation = Aviation.drop(columns=Drop_cols)\n",
    "Aviation.isnull().sum()\n",
    "Aviation.shape"
   ]
  },
  {
   "cell_type": "code",
   "execution_count": 8,
   "metadata": {},
   "outputs": [
    {
     "data": {
      "text/plain": [
       "(23194, 24)"
      ]
     },
     "execution_count": 8,
     "metadata": {},
     "output_type": "execute_result"
    }
   ],
   "source": [
    "# Drop rows with missing values in key columns.\n",
    "Aviation.dropna(subset=['Make', 'Model', 'Location', 'Total.Fatal.Injuries', 'Aircraft.Category','Weather.Condition',\n",
    "                            'Purpose.of.flight','Aircraft.damage'], inplace=True)\n",
    "\n",
    "# Strip whitespaces\n",
    "Aviation = Aviation.apply(lambda x: x.str.strip() if x.dtype == \"object\" else x)\n",
    "\n",
    "# Convert Total.Fatal.Injuries to numeric\n",
    "Aviation[\"Total.Fatal.Injuries\"] = pd.to_numeric(Aviation[\"Total.Fatal.Injuries\"], errors=\"coerce\")\n",
    "\n",
    "# Filter out rows with invalid or negative injury values\n",
    "Aviation = Aviation[Aviation[\"Total.Fatal.Injuries\"] >= 0]\n",
    "Aviation.shape"
   ]
  },
  {
   "cell_type": "markdown",
   "metadata": {},
   "source": [
    "### Categorize data\n",
    "* Filter data to required private and commercial airplanes\n",
    "* Filter data by Airplane category"
   ]
  },
  {
   "cell_type": "code",
   "execution_count": 9,
   "metadata": {},
   "outputs": [
    {
     "data": {
      "text/plain": [
       "(15996, 24)"
      ]
     },
     "execution_count": 9,
     "metadata": {},
     "output_type": "execute_result"
    }
   ],
   "source": [
    "# Define the custom order for sorting\n",
    "custom_order = [\"Personal\", \"Business\", \"Ferry\", \"Executive/Corporate\"]\n",
    "\n",
    "# Sort the dataframe based on the custom order\n",
    "Aviation_sorted = Aviation[Aviation['Purpose.of.flight'].isin(custom_order)].copy()\n",
    "Aviation_sorted['Purpose.of.flight'] = pd.Categorical(Aviation_sorted['Purpose.of.flight'], categories=custom_order, ordered=True)\n",
    "Aviation_sorted = Aviation_sorted.sort_values('Purpose.of.flight')\n",
    "\n",
    "Aviation_sorted.shape"
   ]
  },
  {
   "cell_type": "code",
   "execution_count": 10,
   "metadata": {},
   "outputs": [],
   "source": [
    "#Filter data by Airplane category\n",
    "Airplanes = Aviation_sorted[Aviation_sorted['Aircraft.Category'] == 'Airplane']\n",
    "Airplanes.to_csv('airplanes_data.csv', index=False)"
   ]
  },
  {
   "cell_type": "markdown",
   "metadata": {},
   "source": [
    "### Analyze Risk by Airplane Make and Model\n",
    "* Fatality rate by Make\n",
    "* Fatality rate by Model\n",
    "* Popular low risk airplanes"
   ]
  },
  {
   "cell_type": "code",
   "execution_count": 11,
   "metadata": {},
   "outputs": [],
   "source": [
    "X = 50\n",
    "\n",
    "# Filter makes with at least X accidents\n",
    "makes_with_min_accidents = Airplanes.groupby('Make').filter(lambda x: len(x) >= X)\n",
    "\n",
    "# Calculate fatality rate for each make\n",
    "fatality_rates_by_make = makes_with_min_accidents.groupby('Make').agg(\n",
    "    total_accidents=('Event.Id', 'count'),\n",
    "    total_fatalities=('Total.Fatal.Injuries', 'sum')\n",
    ")\n",
    "fatality_rates_by_make['fatality_rate'] = fatality_rates_by_make['total_fatalities'] / fatality_rates_by_make['total_accidents']\n",
    "\n",
    "# Sort by fatality rate in ascending order\n",
    "lowest_fatality_rates_by_make = fatality_rates_by_make.sort_values('fatality_rate', ascending=True)"
   ]
  },
  {
   "cell_type": "code",
   "execution_count": 12,
   "metadata": {},
   "outputs": [],
   "source": [
    "X = 50\n",
    "\n",
    "# Filter models with at least X accidents\n",
    "models_with_min_accidents = Airplanes.groupby('Model').filter(lambda x: len(x) >= X)\n",
    "\n",
    "# Calculate fatality rate for each model\n",
    "fatality_rates = models_with_min_accidents.groupby('Model').agg(\n",
    "    total_accidents=('Event.Id', 'count'),\n",
    "    total_fatalities=('Total.Fatal.Injuries', 'sum')\n",
    ")\n",
    "fatality_rates['fatality_rate'] = fatality_rates['total_fatalities'] / fatality_rates['total_accidents']\n",
    "\n",
    "# Sort by fatality rate in ascending order\n",
    "lowest_fatality_rates = fatality_rates.sort_values('fatality_rate', ascending=True)"
   ]
  },
  {
   "cell_type": "code",
   "execution_count": 13,
   "metadata": {},
   "outputs": [],
   "source": [
    "# Group by Make and Model\n",
    "risk_analysis = Airplanes.groupby([\"Make\", \"Model\"]).agg(\n",
    "    Total_Accidents=(\"Event.Id\", \"count\"),\n",
    "    Total_Fatalities=(\"Total.Fatal.Injuries\", \"sum\"),\n",
    "    Avg_Fatalities_Per_Accident=(\"Total.Fatal.Injuries\", \"mean\")\n",
    ").reset_index()\n",
    "\n",
    "# Sort by Total_Fatalities to identify low-risk aircraft\n",
    "low_risk_aircraft = risk_analysis.sort_values(by=\"Total_Fatalities\", ascending=True)"
   ]
  },
  {
   "cell_type": "code",
   "execution_count": 14,
   "metadata": {},
   "outputs": [
    {
     "data": {
      "text/html": [
       "<div>\n",
       "<style scoped>\n",
       "    .dataframe tbody tr th:only-of-type {\n",
       "        vertical-align: middle;\n",
       "    }\n",
       "\n",
       "    .dataframe tbody tr th {\n",
       "        vertical-align: top;\n",
       "    }\n",
       "\n",
       "    .dataframe thead th {\n",
       "        text-align: right;\n",
       "    }\n",
       "</style>\n",
       "<table border=\"1\" class=\"dataframe\">\n",
       "  <thead>\n",
       "    <tr style=\"text-align: right;\">\n",
       "      <th></th>\n",
       "      <th>Make</th>\n",
       "      <th>Model</th>\n",
       "      <th>Total_Accidents</th>\n",
       "      <th>Total_Fatalities</th>\n",
       "      <th>Avg_Fatalities_Per_Accident</th>\n",
       "    </tr>\n",
       "  </thead>\n",
       "  <tbody>\n",
       "    <tr>\n",
       "      <th>938</th>\n",
       "      <td>CESSNA</td>\n",
       "      <td>172</td>\n",
       "      <td>228</td>\n",
       "      <td>56.0</td>\n",
       "      <td>0.245614</td>\n",
       "    </tr>\n",
       "    <tr>\n",
       "      <th>1394</th>\n",
       "      <td>Cessna</td>\n",
       "      <td>172</td>\n",
       "      <td>175</td>\n",
       "      <td>34.0</td>\n",
       "      <td>0.194286</td>\n",
       "    </tr>\n",
       "    <tr>\n",
       "      <th>1235</th>\n",
       "      <td>CIRRUS DESIGN CORP</td>\n",
       "      <td>SR22</td>\n",
       "      <td>115</td>\n",
       "      <td>72.0</td>\n",
       "      <td>0.626087</td>\n",
       "    </tr>\n",
       "    <tr>\n",
       "      <th>971</th>\n",
       "      <td>CESSNA</td>\n",
       "      <td>180</td>\n",
       "      <td>114</td>\n",
       "      <td>11.0</td>\n",
       "      <td>0.096491</td>\n",
       "    </tr>\n",
       "    <tr>\n",
       "      <th>983</th>\n",
       "      <td>CESSNA</td>\n",
       "      <td>182</td>\n",
       "      <td>110</td>\n",
       "      <td>30.0</td>\n",
       "      <td>0.272727</td>\n",
       "    </tr>\n",
       "    <tr>\n",
       "      <th>425</th>\n",
       "      <td>BEECH</td>\n",
       "      <td>A36</td>\n",
       "      <td>108</td>\n",
       "      <td>79.0</td>\n",
       "      <td>0.731481</td>\n",
       "    </tr>\n",
       "    <tr>\n",
       "      <th>3685</th>\n",
       "      <td>PIPER</td>\n",
       "      <td>PA-18-150</td>\n",
       "      <td>107</td>\n",
       "      <td>5.0</td>\n",
       "      <td>0.046729</td>\n",
       "    </tr>\n",
       "    <tr>\n",
       "      <th>1432</th>\n",
       "      <td>Cessna</td>\n",
       "      <td>182</td>\n",
       "      <td>98</td>\n",
       "      <td>37.0</td>\n",
       "      <td>0.377551</td>\n",
       "    </tr>\n",
       "    <tr>\n",
       "      <th>3786</th>\n",
       "      <td>PIPER</td>\n",
       "      <td>PA28</td>\n",
       "      <td>97</td>\n",
       "      <td>40.0</td>\n",
       "      <td>0.412371</td>\n",
       "    </tr>\n",
       "    <tr>\n",
       "      <th>955</th>\n",
       "      <td>CESSNA</td>\n",
       "      <td>172N</td>\n",
       "      <td>92</td>\n",
       "      <td>32.0</td>\n",
       "      <td>0.347826</td>\n",
       "    </tr>\n",
       "  </tbody>\n",
       "</table>\n",
       "</div>"
      ],
      "text/plain": [
       "                    Make      Model  Total_Accidents  Total_Fatalities  \\\n",
       "938               CESSNA        172              228              56.0   \n",
       "1394              Cessna        172              175              34.0   \n",
       "1235  CIRRUS DESIGN CORP       SR22              115              72.0   \n",
       "971               CESSNA        180              114              11.0   \n",
       "983               CESSNA        182              110              30.0   \n",
       "425                BEECH        A36              108              79.0   \n",
       "3685               PIPER  PA-18-150              107               5.0   \n",
       "1432              Cessna        182               98              37.0   \n",
       "3786               PIPER       PA28               97              40.0   \n",
       "955               CESSNA       172N               92              32.0   \n",
       "\n",
       "      Avg_Fatalities_Per_Accident  \n",
       "938                      0.245614  \n",
       "1394                     0.194286  \n",
       "1235                     0.626087  \n",
       "971                      0.096491  \n",
       "983                      0.272727  \n",
       "425                      0.731481  \n",
       "3685                     0.046729  \n",
       "1432                     0.377551  \n",
       "3786                     0.412371  \n",
       "955                      0.347826  "
      ]
     },
     "execution_count": 14,
     "metadata": {},
     "output_type": "execute_result"
    }
   ],
   "source": [
    "# Group by Make and Model for popular aircraft\n",
    "popular_grouped = Airplanes.groupby([\"Make\", \"Model\"]).agg(\n",
    "    Total_Accidents=(\"Event.Id\", \"count\"),\n",
    "    Total_Fatalities=(\"Total.Fatal.Injuries\", \"sum\"),\n",
    "    Avg_Fatalities_Per_Accident=(\"Total.Fatal.Injuries\", \"mean\")\n",
    ").reset_index()\n",
    "\n",
    "# Define a threshold for popularity (e.g., aircraft with more than 50 accidents)\n",
    "popular_airplanes = popular_grouped[popular_grouped[\"Total_Accidents\"] > 50]\n",
    "\n",
    "# Sort by Total_Accidents in descending order\n",
    "popular_airplanes = popular_grouped.sort_values(by=\"Total_Accidents\", ascending=False)\n",
    "popular_airplanes.head(10)"
   ]
  },
  {
   "cell_type": "code",
   "execution_count": 18,
   "metadata": {},
   "outputs": [
    {
     "data": {
      "text/html": [
       "<div>\n",
       "<style scoped>\n",
       "    .dataframe tbody tr th:only-of-type {\n",
       "        vertical-align: middle;\n",
       "    }\n",
       "\n",
       "    .dataframe tbody tr th {\n",
       "        vertical-align: top;\n",
       "    }\n",
       "\n",
       "    .dataframe thead th {\n",
       "        text-align: right;\n",
       "    }\n",
       "</style>\n",
       "<table border=\"1\" class=\"dataframe\">\n",
       "  <thead>\n",
       "    <tr style=\"text-align: right;\">\n",
       "      <th></th>\n",
       "      <th>Weather.Condition</th>\n",
       "      <th>Total_Accidents</th>\n",
       "      <th>Fatal_Accidents</th>\n",
       "      <th>Fatality_Rate</th>\n",
       "    </tr>\n",
       "  </thead>\n",
       "  <tbody>\n",
       "    <tr>\n",
       "      <th>0</th>\n",
       "      <td>IMC</td>\n",
       "      <td>1209</td>\n",
       "      <td>791</td>\n",
       "      <td>0.654260</td>\n",
       "    </tr>\n",
       "    <tr>\n",
       "      <th>1</th>\n",
       "      <td>UNK</td>\n",
       "      <td>79</td>\n",
       "      <td>46</td>\n",
       "      <td>0.582278</td>\n",
       "    </tr>\n",
       "    <tr>\n",
       "      <th>2</th>\n",
       "      <td>Unk</td>\n",
       "      <td>124</td>\n",
       "      <td>89</td>\n",
       "      <td>0.717742</td>\n",
       "    </tr>\n",
       "    <tr>\n",
       "      <th>3</th>\n",
       "      <td>VMC</td>\n",
       "      <td>21782</td>\n",
       "      <td>3625</td>\n",
       "      <td>0.166422</td>\n",
       "    </tr>\n",
       "  </tbody>\n",
       "</table>\n",
       "</div>"
      ],
      "text/plain": [
       "  Weather.Condition  Total_Accidents  Fatal_Accidents  Fatality_Rate\n",
       "0               IMC             1209              791       0.654260\n",
       "1               UNK               79               46       0.582278\n",
       "2               Unk              124               89       0.717742\n",
       "3               VMC            21782             3625       0.166422"
      ]
     },
     "execution_count": 18,
     "metadata": {},
     "output_type": "execute_result"
    }
   ],
   "source": [
    "# Weather Analysis\n",
    "weather_risk = Aviation.groupby('Weather.Condition').agg(Total_Accidents=('Event.Date', 'count'),Fatal_Accidents=('Total.Fatal.Injuries', lambda x: (x > 0).sum())).reset_index()\n",
    "weather_risk['Fatality_Rate'] = weather_risk['Fatal_Accidents'] / weather_risk['Total_Accidents']\n",
    "weather_risk"
   ]
  },
  {
   "cell_type": "markdown",
   "metadata": {},
   "source": [
    "### Visualizations\n",
    "* Fatalities by Make\n",
    "* Fatalities by Model\n",
    "* Low risk airplanes"
   ]
  },
  {
   "cell_type": "code",
   "execution_count": 15,
   "metadata": {},
   "outputs": [
    {
     "data": {
      "image/png": "[encoded data removed]",
      "text/plain": [
       "<Figure size 720x432 with 1 Axes>"
      ]
     },
     "metadata": {
      "needs_background": "light"
     },
     "output_type": "display_data"
    }
   ],
   "source": [
    "top_10_lowest_fatality_rates = lowest_fatality_rates_by_make.head(10)\n",
    "\n",
    "# Plot the data\n",
    "plt.figure(figsize=(10, 6))\n",
    "plt.bar(top_10_lowest_fatality_rates.index, top_10_lowest_fatality_rates['fatality_rate'], color='indigo')\n",
    "plt.xlabel('Make', fontsize=12)\n",
    "plt.ylabel('Fatality Rate', fontsize=12)\n",
    "plt.title('Top 10 Makes with Lowest Fatality Rates', fontsize=14)\n",
    "plt.xticks(rotation=90)\n",
    "plt.tight_layout()\n",
    "plt.show()"
   ]
  },
  {
   "cell_type": "code",
   "execution_count": 16,
   "metadata": {},
   "outputs": [
    {
     "data": {
      "image/png": "[encoded data removed]",
      "text/plain": [
       "<Figure size 720x432 with 1 Axes>"
      ]
     },
     "metadata": {
      "needs_background": "light"
     },
     "output_type": "display_data"
    }
   ],
   "source": [
    "# Select the top 10 low-risk popular aircraft \n",
    "top_10_low_risk_popular_aircraft = popular_airplanes.head(10)\n",
    "\n",
    "# Plot the data\n",
    "plt.figure(figsize=(10, 6))\n",
    "plt.bar(top_10_low_risk_popular_aircraft['Make'] + \" \" + top_10_low_risk_popular_aircraft['Model'], \n",
    "    top_10_low_risk_popular_aircraft['Total_Fatalities'], color='cadetblue')\n",
    "plt.xlabel('Aircraft (Make and Model)', fontsize=12)\n",
    "plt.ylabel('Total Fatalities', fontsize=12)\n",
    "plt.title('Top 10 Low-Risk Aircraft by Total Fatalities', fontsize=14)\n",
    "plt.xticks(rotation=90)\n",
    "plt.tight_layout()\n",
    "plt.show()"
   ]
  },
  {
   "cell_type": "code",
   "execution_count": 17,
   "metadata": {},
   "outputs": [
    {
     "data": {
      "image/png": "[encoded data removed]",
      "text/plain": [
       "<Figure size 720x432 with 1 Axes>"
      ]
     },
     "metadata": {
      "needs_background": "light"
     },
     "output_type": "display_data"
    }
   ],
   "source": [
    "plt.figure(figsize=(10, 6))\n",
    "plt.bar(lowest_fatality_rates.index[:10], lowest_fatality_rates['fatality_rate'][:10], color='blue')\n",
    "plt.xlabel('Model', fontsize=12)\n",
    "plt.ylabel('Fatality Rate', fontsize=12)\n",
    "plt.title('Top 10 Models with Lowest Fatality Rates', fontsize=14)\n",
    "plt.xticks(rotation=90)\n",
    "plt.tight_layout()\n",
    "plt.show()"
   ]
  },
  {
   "cell_type": "markdown",
   "metadata": {},
   "source": [
    "## RECOMMENDATION\n",
    "From my analysis of Aviation_Data.csv, here are my findings:\n",
    "1. Purchase CESSNA 172 model which has the lowest risk. Cessna has the lowest fatality rate.\n",
    "2. CESSNA make has low accident rates and should be considered as the best manufacturer among the ones analysed.\n",
    "3. VMC weather condition has the highest number of fatalities. Those operating the airplane should take note of this."
   ]
  },
  {
   "cell_type": "code",
   "execution_count": 19,
   "metadata": {},
   "outputs": [],
   "source": [
    "Aviation.to_csv('Aviation_Cleaned.csv') # this created a a csv file that can be further explored on Tableau."
   ]
  },
  {
   "cell_type": "code",
   "execution_count": null,
   "metadata": {},
   "outputs": [],
   "source": []
  }
 ],
 "metadata": {
  "kernelspec": {
   "display_name": "Python 3",
   "language": "python",
   "name": "python3"
  },
  "language_info": {
   "codemirror_mode": {
    "name": "ipython",
    "version": 3
   },
   "file_extension": ".py",
   "mimetype": "text/x-python",
   "name": "python",
   "nbconvert_exporter": "python",
   "pygments_lexer": "ipython3",
   "version": "3.8.5"
  }
 },
 "nbformat": 4,
 "nbformat_minor": 2
}
